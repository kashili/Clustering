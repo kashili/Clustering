{
 "cells": [
  {
   "cell_type": "code",
   "execution_count": 34,
   "metadata": {},
   "outputs": [
    {
     "name": "stdout",
     "output_type": "stream",
     "text": [
      "(20000, 3)\n"
     ]
    },
    {
     "data": {
      "text/html": [
       "<div>\n",
       "<style scoped>\n",
       "    .dataframe tbody tr th:only-of-type {\n",
       "        vertical-align: middle;\n",
       "    }\n",
       "\n",
       "    .dataframe tbody tr th {\n",
       "        vertical-align: top;\n",
       "    }\n",
       "\n",
       "    .dataframe thead th {\n",
       "        text-align: right;\n",
       "    }\n",
       "</style>\n",
       "<table border=\"1\" class=\"dataframe\">\n",
       "  <thead>\n",
       "    <tr style=\"text-align: right;\">\n",
       "      <th></th>\n",
       "      <th>topic_id</th>\n",
       "      <th>subject</th>\n",
       "      <th>body</th>\n",
       "    </tr>\n",
       "  </thead>\n",
       "  <tbody>\n",
       "    <tr>\n",
       "      <th>0</th>\n",
       "      <td>2036843</td>\n",
       "      <td>Internal Vulnerability Scanner Suggestions</td>\n",
       "      <td>&lt;p&gt;Hi All,&lt;/p&gt;&lt;p&gt;I am looking into purchasing/...</td>\n",
       "    </tr>\n",
       "    <tr>\n",
       "      <th>1</th>\n",
       "      <td>2145900</td>\n",
       "      <td>Cryptocurrencies Make Their Way to Campus, Bri...</td>\n",
       "      <td>&lt;p&gt;\\r\\n\\r\\nIt can be hard for college students...</td>\n",
       "    </tr>\n",
       "    <tr>\n",
       "      <th>2</th>\n",
       "      <td>1400878</td>\n",
       "      <td>Vulnerability with Mac iOS Gatekeeper</td>\n",
       "      <td>&lt;p&gt;Hackers in DC have shown that Mac iOS' Gate...</td>\n",
       "    </tr>\n",
       "    <tr>\n",
       "      <th>3</th>\n",
       "      <td>781618</td>\n",
       "      <td>Crypto Wall on my server.</td>\n",
       "      <td>&lt;p&gt;hi everyone, &lt;/p&gt;\\n&lt;p&gt;I'm new here , i real...</td>\n",
       "    </tr>\n",
       "    <tr>\n",
       "      <th>4</th>\n",
       "      <td>2103779</td>\n",
       "      <td>Security Audit in the South East US</td>\n",
       "      <td>&lt;p&gt;Good Morning and Happy 2018. &lt;/p&gt;&lt;p&gt;We are ...</td>\n",
       "    </tr>\n",
       "  </tbody>\n",
       "</table>\n",
       "</div>"
      ],
      "text/plain": [
       "   topic_id                                            subject  \\\n",
       "0   2036843         Internal Vulnerability Scanner Suggestions   \n",
       "1   2145900  Cryptocurrencies Make Their Way to Campus, Bri...   \n",
       "2   1400878              Vulnerability with Mac iOS Gatekeeper   \n",
       "3    781618                          Crypto Wall on my server.   \n",
       "4   2103779                Security Audit in the South East US   \n",
       "\n",
       "                                                body  \n",
       "0  <p>Hi All,</p><p>I am looking into purchasing/...  \n",
       "1  <p>\\r\\n\\r\\nIt can be hard for college students...  \n",
       "2  <p>Hackers in DC have shown that Mac iOS' Gate...  \n",
       "3  <p>hi everyone, </p>\\n<p>I'm new here , i real...  \n",
       "4  <p>Good Morning and Happy 2018. </p><p>We are ...  "
      ]
     },
     "execution_count": 34,
     "metadata": {},
     "output_type": "execute_result"
    }
   ],
   "source": [
    "import numpy as np\n",
    "import pandas as pd\n",
    "import warnings\n",
    "\n",
    "data = pd.read_csv('subsegment_topics.csv')\n",
    "warnings.filterwarnings('ignore')\n",
    "print(data.shape)\n",
    "data.head()"
   ]
  },
  {
   "cell_type": "code",
   "execution_count": 35,
   "metadata": {},
   "outputs": [
    {
     "name": "stdout",
     "output_type": "stream",
     "text": [
      "<class 'pandas.core.frame.DataFrame'>\n",
      "RangeIndex: 20000 entries, 0 to 19999\n",
      "Data columns (total 3 columns):\n",
      "topic_id    20000 non-null int64\n",
      "subject     20000 non-null object\n",
      "body        20000 non-null object\n",
      "dtypes: int64(1), object(2)\n",
      "memory usage: 468.8+ KB\n"
     ]
    }
   ],
   "source": [
    "data.info()"
   ]
  },
  {
   "cell_type": "markdown",
   "metadata": {},
   "source": [
    "# Preprocessing of data"
   ]
  },
  {
   "cell_type": "code",
   "execution_count": 36,
   "metadata": {},
   "outputs": [],
   "source": [
    "import re\n",
    "from bs4 import BeautifulSoup\n",
    "\n",
    "def delete_unnecessary_symbols(data):\n",
    "    \n",
    "    body = data['body']\n",
    "    \n",
    "    new_body = []\n",
    "    for el in body:\n",
    "        el = BeautifulSoup(el, \"html.parser\").get_text()\n",
    "        el = el.replace('\\n','')\n",
    "        el = el.replace('\\t','')\n",
    "        el = el.replace('\\r','')\n",
    "        \n",
    "        new_body.append(el)\n",
    "        \n",
    "    data['body'] = new_body\n",
    "    \n",
    "    return data\n",
    "\n",
    "new_data = delete_unnecessary_symbols(data) \n",
    "\n"
   ]
  },
  {
   "cell_type": "code",
   "execution_count": 37,
   "metadata": {},
   "outputs": [
    {
     "data": {
      "text/html": [
       "<div>\n",
       "<style scoped>\n",
       "    .dataframe tbody tr th:only-of-type {\n",
       "        vertical-align: middle;\n",
       "    }\n",
       "\n",
       "    .dataframe tbody tr th {\n",
       "        vertical-align: top;\n",
       "    }\n",
       "\n",
       "    .dataframe thead th {\n",
       "        text-align: right;\n",
       "    }\n",
       "</style>\n",
       "<table border=\"1\" class=\"dataframe\">\n",
       "  <thead>\n",
       "    <tr style=\"text-align: right;\">\n",
       "      <th></th>\n",
       "      <th>topic_id</th>\n",
       "      <th>subject</th>\n",
       "      <th>body</th>\n",
       "    </tr>\n",
       "  </thead>\n",
       "  <tbody>\n",
       "    <tr>\n",
       "      <th>0</th>\n",
       "      <td>2036843</td>\n",
       "      <td>Internal Vulnerability Scanner Suggestions</td>\n",
       "      <td>Hi All,I am looking into purchasing/trying a I...</td>\n",
       "    </tr>\n",
       "    <tr>\n",
       "      <th>1</th>\n",
       "      <td>2145900</td>\n",
       "      <td>Cryptocurrencies Make Their Way to Campus, Bri...</td>\n",
       "      <td>It can be hard for college students to find ti...</td>\n",
       "    </tr>\n",
       "    <tr>\n",
       "      <th>2</th>\n",
       "      <td>1400878</td>\n",
       "      <td>Vulnerability with Mac iOS Gatekeeper</td>\n",
       "      <td>Hackers in DC have shown that Mac iOS' Gatekee...</td>\n",
       "    </tr>\n",
       "    <tr>\n",
       "      <th>3</th>\n",
       "      <td>781618</td>\n",
       "      <td>Crypto Wall on my server.</td>\n",
       "      <td>hi everyone, I'm new here , i really need some...</td>\n",
       "    </tr>\n",
       "    <tr>\n",
       "      <th>4</th>\n",
       "      <td>2103779</td>\n",
       "      <td>Security Audit in the South East US</td>\n",
       "      <td>Good Morning and Happy 2018. We are looking to...</td>\n",
       "    </tr>\n",
       "  </tbody>\n",
       "</table>\n",
       "</div>"
      ],
      "text/plain": [
       "   topic_id                                            subject  \\\n",
       "0   2036843         Internal Vulnerability Scanner Suggestions   \n",
       "1   2145900  Cryptocurrencies Make Their Way to Campus, Bri...   \n",
       "2   1400878              Vulnerability with Mac iOS Gatekeeper   \n",
       "3    781618                          Crypto Wall on my server.   \n",
       "4   2103779                Security Audit in the South East US   \n",
       "\n",
       "                                                body  \n",
       "0  Hi All,I am looking into purchasing/trying a I...  \n",
       "1  It can be hard for college students to find ti...  \n",
       "2  Hackers in DC have shown that Mac iOS' Gatekee...  \n",
       "3  hi everyone, I'm new here , i really need some...  \n",
       "4  Good Morning and Happy 2018. We are looking to...  "
      ]
     },
     "execution_count": 37,
     "metadata": {},
     "output_type": "execute_result"
    }
   ],
   "source": [
    "new_data.head()"
   ]
  },
  {
   "cell_type": "markdown",
   "metadata": {},
   "source": [
    "# Vectorizing of text data"
   ]
  },
  {
   "cell_type": "markdown",
   "metadata": {},
   "source": [
    "I'll take not all number of objects, because first of all i want ot find the best algorithm for clustering. For saving the time during the searching the best one, I'll take not all data"
   ]
  },
  {
   "cell_type": "code",
   "execution_count": 38,
   "metadata": {},
   "outputs": [],
   "source": [
    "from sklearn.feature_extraction.text import TfidfVectorizer, CountVectorizer\n",
    "\n",
    "vectorizer = TfidfVectorizer(max_features=10000)\n",
    "\n",
    "new_body_vec = vectorizer.fit_transform(new_data['body'])"
   ]
  },
  {
   "cell_type": "code",
   "execution_count": 39,
   "metadata": {},
   "outputs": [
    {
     "data": {
      "text/plain": [
       "<20000x10000 sparse matrix of type '<class 'numpy.float64'>'\n",
       "\twith 1568924 stored elements in Compressed Sparse Row format>"
      ]
     },
     "execution_count": 39,
     "metadata": {},
     "output_type": "execute_result"
    }
   ],
   "source": [
    "new_body_vec"
   ]
  },
  {
   "cell_type": "code",
   "execution_count": 13,
   "metadata": {},
   "outputs": [],
   "source": [
    "from sklearn.model_selection import train_test_split\n",
    "\n",
    "X_train, X_test = train_test_split(new_body_vec[:15000], test_size=0.2)"
   ]
  },
  {
   "cell_type": "code",
   "execution_count": 14,
   "metadata": {},
   "outputs": [
    {
     "name": "stdout",
     "output_type": "stream",
     "text": [
      "The size of train dataset: (4000, 10000)\n",
      "The size of test dataset: (1000, 10000)\n"
     ]
    }
   ],
   "source": [
    "print('The size of train dataset:', X_train.shape)\n",
    "print('The size of test dataset:', X_test.shape)"
   ]
  },
  {
   "cell_type": "markdown",
   "metadata": {},
   "source": [
    "# Part 1. Clustering"
   ]
  },
  {
   "cell_type": "markdown",
   "metadata": {},
   "source": [
    "So, right now we will do next: we will take 3 algorithms (KMeans, DBSCAN and ), then try to find the best number of clusters and other params for every algorithms (apart of DBSCAN, because it do this himself) and will check the accuracy of every algorithm with the help of `silhouette score`. You can check what it is in internet. All what you should know, 1 is the best clustering, -1 worst, 0 is overlapping clusters."
   ]
  },
  {
   "cell_type": "markdown",
   "metadata": {},
   "source": [
    "## KMeans"
   ]
  },
  {
   "cell_type": "code",
   "execution_count": 15,
   "metadata": {},
   "outputs": [
    {
     "data": {
      "text/plain": [
       "<4000x10000 sparse matrix of type '<class 'numpy.float64'>'\n",
       "\twith 310205 stored elements in Compressed Sparse Row format>"
      ]
     },
     "execution_count": 15,
     "metadata": {},
     "output_type": "execute_result"
    }
   ],
   "source": [
    "X_train"
   ]
  },
  {
   "cell_type": "code",
   "execution_count": 16,
   "metadata": {},
   "outputs": [
    {
     "name": "stdout",
     "output_type": "stream",
     "text": [
      "Silhouette score: -0.0016958163828391627\n"
     ]
    }
   ],
   "source": [
    "from sklearn.cluster import KMeans\n",
    "from sklearn.metrics import silhouette_score\n",
    "import matplotlib.pyplot as plt\n",
    "\n",
    "model = KMeans()\n",
    "\n",
    "model.fit(X_train)\n",
    "print('Silhouette score:', silhouette_score(X_train, model.labels_))"
   ]
  },
  {
   "cell_type": "markdown",
   "metadata": {},
   "source": [
    "Try to choose the best number of clusters:"
   ]
  },
  {
   "cell_type": "code",
   "execution_count": 13,
   "metadata": {},
   "outputs": [
    {
     "name": "stdout",
     "output_type": "stream",
     "text": [
      "Trained with 10 clusters and get inertia: 60.389681766912226\n",
      "Trained with 12 clusters and get inertia: 60.30390074735129\n",
      "Trained with 14 clusters and get inertia: 60.24757251964357\n"
     ]
    }
   ],
   "source": [
    "number_clusters = [10, 12, 14]\n",
    "\n",
    "all_inertia = []\n",
    "all_silhouettes = []\n",
    "for i in number_clusters:\n",
    "    model = KMeans(n_clusters=i).fit(X_train)\n",
    "    all_inertia.append(np.sqrt(model.inertia_))\n",
    "    all_silhouettes.append(silhouette_score(X_train, model.labels_))\n",
    "    print('Trained with {0} clusters and get inertia: {1}'.format(i,np.sqrt(model.inertia_)))"
   ]
  },
  {
   "cell_type": "code",
   "execution_count": 14,
   "metadata": {},
   "outputs": [
    {
     "data": {
      "image/png": "[encoded data removed]",
      "text/plain": [
       "<Figure size 432x288 with 1 Axes>"
      ]
     },
     "metadata": {
      "needs_background": "light"
     },
     "output_type": "display_data"
    }
   ],
   "source": [
    "plt.plot(number_clusters, all_inertia)\n",
    "plt.title('Graph between number of clusters and inertia score')\n",
    "plt.xlabel('Number of clusters')\n",
    "plt.ylabel('Inertia')\n",
    "plt.grid()\n",
    "plt.show()"
   ]
  },
  {
   "cell_type": "code",
   "execution_count": 16,
   "metadata": {},
   "outputs": [
    {
     "data": {
      "image/png": "[encoded data removed]",
      "text/plain": [
       "<Figure size 432x288 with 1 Axes>"
      ]
     },
     "metadata": {
      "needs_background": "light"
     },
     "output_type": "display_data"
    }
   ],
   "source": [
    "plt.plot(number_clusters, all_silhouettes)\n",
    "plt.title('Graph between number of clusters and silhouette coef')\n",
    "plt.xlabel('Number of clusters')\n",
    "plt.ylabel('Silhouette coef')\n",
    "plt.grid()\n",
    "plt.show()"
   ]
  },
  {
   "cell_type": "markdown",
   "metadata": {},
   "source": [
    "So, for `KMeans` we find out, that for us the best inertia metric and silhouette coef achievs with  `12` number of clusters"
   ]
  },
  {
   "cell_type": "markdown",
   "metadata": {},
   "source": [
    "## Aglomerative algorithm"
   ]
  },
  {
   "cell_type": "code",
   "execution_count": 21,
   "metadata": {},
   "outputs": [
    {
     "data": {
      "text/plain": [
       "AgglomerativeClustering(affinity='euclidean', compute_full_tree='auto',\n",
       "            connectivity=None, linkage='ward', memory=None, n_clusters=2,\n",
       "            pooling_func='deprecated')"
      ]
     },
     "execution_count": 21,
     "metadata": {},
     "output_type": "execute_result"
    }
   ],
   "source": [
    "from sklearn.cluster import AgglomerativeClustering\n",
    "\n",
    "agg = AgglomerativeClustering()\n",
    "agg.fit(X_train.toarray())"
   ]
  },
  {
   "cell_type": "code",
   "execution_count": 25,
   "metadata": {},
   "outputs": [
    {
     "name": "stdout",
     "output_type": "stream",
     "text": [
      "Silhouette score: -0.005300840155991942\n"
     ]
    }
   ],
   "source": [
    "print('Silhouette score:', silhouette_score(X_train, agg.labels_))"
   ]
  },
  {
   "cell_type": "code",
   "execution_count": 28,
   "metadata": {},
   "outputs": [
    {
     "name": "stdout",
     "output_type": "stream",
     "text": [
      "Trained with 10 clusters and get inertia:\n",
      "Trained with 12 clusters and get inertia:\n",
      "Trained with 14 clusters and get inertia:\n"
     ]
    }
   ],
   "source": [
    "number_clusters = [10, 12, 14]\n",
    "\n",
    "all_silhouettes2 = []\n",
    "for i in number_clusters:\n",
    "    agg = AgglomerativeClustering(n_clusters=i).fit(X_train.toarray())\n",
    "    all_silhouettes2.append(silhouette_score(X_train, agg.labels_))\n",
    "    print('Trained with {0} clusters and get inertia:'.format(i))"
   ]
  },
  {
   "cell_type": "code",
   "execution_count": 29,
   "metadata": {},
   "outputs": [
    {
     "data": {
      "image/png": "[encoded data removed]",
      "text/plain": [
       "<Figure size 432x288 with 1 Axes>"
      ]
     },
     "metadata": {
      "needs_background": "light"
     },
     "output_type": "display_data"
    }
   ],
   "source": [
    "plt.plot(number_clusters, all_silhouettes2)\n",
    "plt.title('Graph between number of clusters and silhouette coef')\n",
    "plt.xlabel('Number of clusters')\n",
    "plt.ylabel('Silhouette coef')\n",
    "plt.grid()\n",
    "plt.show()"
   ]
  },
  {
   "cell_type": "markdown",
   "metadata": {},
   "source": [
    "So, here we get that the best silhouette score is about `-0.005`. I can repeat that such number is not the worst clustering, it means6 that the nature of our data is too complex, the intersected, that why we get such silhouette score"
   ]
  },
  {
   "cell_type": "markdown",
   "metadata": {},
   "source": [
    "## MiniBatchKMeans"
   ]
  },
  {
   "cell_type": "code",
   "execution_count": 30,
   "metadata": {},
   "outputs": [
    {
     "name": "stdout",
     "output_type": "stream",
     "text": [
      "Silhouette coef: -0.0029828425986289276\n"
     ]
    }
   ],
   "source": [
    "from sklearn.cluster import MiniBatchKMeans\n",
    "\n",
    "mini_batch_model = MiniBatchKMeans()\n",
    "mini_batch_model.fit(X_train)\n",
    "\n",
    "print('Silhouette coef:', silhouette_score(X_train, mini_batch_model.labels_))"
   ]
  },
  {
   "cell_type": "markdown",
   "metadata": {},
   "source": [
    "Try to find the best number of clusters:"
   ]
  },
  {
   "cell_type": "code",
   "execution_count": 31,
   "metadata": {},
   "outputs": [
    {
     "name": "stdout",
     "output_type": "stream",
     "text": [
      "Trained with 10 clusters\n",
      "Trained with 13 clusters\n",
      "Trained with 16 clusters\n",
      "Trained with 19 clusters\n"
     ]
    }
   ],
   "source": [
    "number_clusters = [10,13,16,19]\n",
    "\n",
    "all_silhouettes3 = []\n",
    "for i in number_clusters:\n",
    "    mini_batch = MiniBatchKMeans(n_clusters=i).fit(X_train)\n",
    "    all_silhouettes3.append(silhouette_score(X_train, mini_batch.labels_))\n",
    "    print('Trained with {0} clusters'.format(i))"
   ]
  },
  {
   "cell_type": "code",
   "execution_count": 32,
   "metadata": {},
   "outputs": [
    {
     "data": {
      "image/png": "[encoded data removed]",
      "text/plain": [
       "<Figure size 432x288 with 1 Axes>"
      ]
     },
     "metadata": {
      "needs_background": "light"
     },
     "output_type": "display_data"
    }
   ],
   "source": [
    "plt.plot(number_clusters, all_silhouettes3)\n",
    "plt.title('Graph between number of clusters and silhouette coef')\n",
    "plt.xlabel('Number of clusters')\n",
    "plt.ylabel('Silhouette coef')\n",
    "plt.grid()\n",
    "plt.show()"
   ]
  },
  {
   "cell_type": "markdown",
   "metadata": {},
   "source": [
    "## Conclusion"
   ]
  },
  {
   "cell_type": "markdown",
   "metadata": {},
   "source": [
    "So, we will check 3 algorithms and find the best one, we will use `Mini Batch KMeans` algorithm with `13` clusters for clustering our data"
   ]
  },
  {
   "cell_type": "code",
   "execution_count": 47,
   "metadata": {},
   "outputs": [],
   "source": [
    "# X_train, X_test = train_test_split(new_body_vec, test_size=0.2)\n",
    "\n",
    "vectr = CountVectorizer(max_features=15000)\n",
    "train, test = train_test_split(new_data, test_size=0.2)"
   ]
  },
  {
   "cell_type": "code",
   "execution_count": 48,
   "metadata": {},
   "outputs": [
    {
     "name": "stdout",
     "output_type": "stream",
     "text": [
      "Train: (16000, 15000)\n",
      "Test: (4000, 15000)\n"
     ]
    }
   ],
   "source": [
    "vectr.fit(train['body'])\n",
    "vectr_train = vectr.transform(train['body'])\n",
    "vectr_test = vectr.transform(test['body'])\n",
    "print('Train:', vectr_train.shape)\n",
    "print('Test:', vectr_test.shape)"
   ]
  },
  {
   "cell_type": "code",
   "execution_count": 49,
   "metadata": {},
   "outputs": [
    {
     "data": {
      "text/plain": [
       "MiniBatchKMeans(batch_size=100, compute_labels=True, init='k-means++',\n",
       "        init_size=None, max_iter=100, max_no_improvement=10, n_clusters=13,\n",
       "        n_init=3, random_state=None, reassignment_ratio=0.01, tol=0.0,\n",
       "        verbose=0)"
      ]
     },
     "execution_count": 49,
     "metadata": {},
     "output_type": "execute_result"
    }
   ],
   "source": [
    "from sklearn.cluster import MiniBatchKMeans\n",
    "\n",
    "mini_batch_model = MiniBatchKMeans(n_clusters=13)\n",
    "mini_batch_model.fit(vectr_train)"
   ]
  },
  {
   "cell_type": "code",
   "execution_count": 50,
   "metadata": {},
   "outputs": [],
   "source": [
    "y_train = mini_batch_model.labels_"
   ]
  },
  {
   "cell_type": "code",
   "execution_count": 52,
   "metadata": {},
   "outputs": [
    {
     "data": {
      "text/html": [
       "<div>\n",
       "<style scoped>\n",
       "    .dataframe tbody tr th:only-of-type {\n",
       "        vertical-align: middle;\n",
       "    }\n",
       "\n",
       "    .dataframe tbody tr th {\n",
       "        vertical-align: top;\n",
       "    }\n",
       "\n",
       "    .dataframe thead th {\n",
       "        text-align: right;\n",
       "    }\n",
       "</style>\n",
       "<table border=\"1\" class=\"dataframe\">\n",
       "  <thead>\n",
       "    <tr style=\"text-align: right;\">\n",
       "      <th></th>\n",
       "      <th>topic_id</th>\n",
       "      <th>subject</th>\n",
       "      <th>body</th>\n",
       "      <th>category</th>\n",
       "    </tr>\n",
       "  </thead>\n",
       "  <tbody>\n",
       "    <tr>\n",
       "      <th>13578</th>\n",
       "      <td>1981648</td>\n",
       "      <td>Ransomware without Phishing - Writeup of a Ter...</td>\n",
       "      <td>Saw this post on Reddit's r/sysadmin:https://w...</td>\n",
       "      <td>5</td>\n",
       "    </tr>\n",
       "    <tr>\n",
       "      <th>12691</th>\n",
       "      <td>517164</td>\n",
       "      <td>How Cryptolocker cost me 2 files...</td>\n",
       "      <td>I wish I could say that I only lost 2 files b...</td>\n",
       "      <td>4</td>\n",
       "    </tr>\n",
       "    <tr>\n",
       "      <th>14796</th>\n",
       "      <td>2175266</td>\n",
       "      <td>Any Success attempt in Decrypting  GrandCrab 5...</td>\n",
       "      <td>I did come across article aritcles from bitdef...</td>\n",
       "      <td>12</td>\n",
       "    </tr>\n",
       "    <tr>\n",
       "      <th>11726</th>\n",
       "      <td>1153320</td>\n",
       "      <td>Lost Root CA. Now what?</td>\n",
       "      <td>Hey guys, hope you're all doing well.So I was ...</td>\n",
       "      <td>0</td>\n",
       "    </tr>\n",
       "    <tr>\n",
       "      <th>10700</th>\n",
       "      <td>363447</td>\n",
       "      <td>SEP v12.0 install failures</td>\n",
       "      <td>I recently started an audit of our SEP system ...</td>\n",
       "      <td>8</td>\n",
       "    </tr>\n",
       "  </tbody>\n",
       "</table>\n",
       "</div>"
      ],
      "text/plain": [
       "       topic_id                                            subject  \\\n",
       "13578   1981648  Ransomware without Phishing - Writeup of a Ter...   \n",
       "12691    517164                How Cryptolocker cost me 2 files...   \n",
       "14796   2175266  Any Success attempt in Decrypting  GrandCrab 5...   \n",
       "11726   1153320                            Lost Root CA. Now what?   \n",
       "10700    363447                         SEP v12.0 install failures   \n",
       "\n",
       "                                                    body  category  \n",
       "13578  Saw this post on Reddit's r/sysadmin:https://w...         5  \n",
       "12691   I wish I could say that I only lost 2 files b...         4  \n",
       "14796  I did come across article aritcles from bitdef...        12  \n",
       "11726  Hey guys, hope you're all doing well.So I was ...         0  \n",
       "10700  I recently started an audit of our SEP system ...         8  "
      ]
     },
     "execution_count": 52,
     "metadata": {},
     "output_type": "execute_result"
    }
   ],
   "source": [
    "train['category'] = y_train\n",
    "train.head()"
   ]
  },
  {
   "cell_type": "markdown",
   "metadata": {},
   "source": [
    "# Part 2.Classification"
   ]
  },
  {
   "cell_type": "code",
   "execution_count": 66,
   "metadata": {},
   "outputs": [],
   "source": [
    "X_train, X_test, y_train, y_test = train_test_split(train.drop(['category','topic_id', 'subject'],axis=1), train['category'], test_size=0.2)"
   ]
  },
  {
   "cell_type": "markdown",
   "metadata": {},
   "source": [
    "## RandomForest"
   ]
  },
  {
   "cell_type": "markdown",
   "metadata": {},
   "source": [
    "## Tuning our model"
   ]
  },
  {
   "cell_type": "code",
   "execution_count": 67,
   "metadata": {},
   "outputs": [],
   "source": [
    "from catboost import CatBoostClassifier"
   ]
  },
  {
   "cell_type": "code",
   "execution_count": 96,
   "metadata": {},
   "outputs": [
    {
     "data": {
      "text/plain": [
       "RandomForestClassifier(bootstrap=True, class_weight=None, criterion='gini',\n",
       "            max_depth=None, max_features='auto', max_leaf_nodes=None,\n",
       "            min_impurity_decrease=0.0, min_impurity_split=None,\n",
       "            min_samples_leaf=1, min_samples_split=2,\n",
       "            min_weight_fraction_leaf=0.0, n_estimators=10, n_jobs=None,\n",
       "            oob_score=False, random_state=None, verbose=0,\n",
       "            warm_start=False)"
      ]
     },
     "execution_count": 96,
     "metadata": {},
     "output_type": "execute_result"
    }
   ],
   "source": [
    "from sklearn.naive_bayes import MultinomialNB\n",
    "from sklearn.ensemble import RandomForestClassifier\n",
    "from sklearn.pipeline import Pipeline\n",
    "from sklearn.feature_extraction.text import TfidfTransformer\n",
    "\n",
    "\n",
    "vectorizer = CountVectorizer()\n",
    "vectorizer.fit(X_train['body'])\n",
    "tfidf_train = vectorizer.transform(X_train['body'])\n",
    "tfidf_test = vectorizer.transform(X_test['body'])\n",
    "\n",
    "model = RandomForestClassifier()\n",
    "model.fit(tfidf_train, y_train)"
   ]
  },
  {
   "cell_type": "code",
   "execution_count": 97,
   "metadata": {},
   "outputs": [],
   "source": [
    "y_pred = model.predict(tfidf_test)"
   ]
  },
  {
   "cell_type": "code",
   "execution_count": 99,
   "metadata": {},
   "outputs": [
    {
     "data": {
      "text/plain": [
       "0.6735"
      ]
     },
     "execution_count": 99,
     "metadata": {},
     "output_type": "execute_result"
    }
   ],
   "source": [
    "from sklearn.metrics import f1_score\n",
    "\n",
    "f1_score(y_test, y_pred, average='micro')"
   ]
  },
  {
   "cell_type": "markdown",
   "metadata": {},
   "source": [
    "## SGD"
   ]
  },
  {
   "cell_type": "code",
   "execution_count": 24,
   "metadata": {},
   "outputs": [],
   "source": [
    "from sklearn.linear_model import SGDClassifier\n",
    "\n",
    "clf = SGDClassifier(max_iter=1000, tol=1e-3)\n",
    "clf.fit(tfidf_train, y_train)"
   ]
  },
  {
   "cell_type": "code",
   "execution_count": 112,
   "metadata": {},
   "outputs": [
    {
     "name": "stdout",
     "output_type": "stream",
     "text": [
      "f1 score: 0.85275\n"
     ]
    }
   ],
   "source": [
    "y_pred = clf.predict(tfidf_test)\n",
    "print('f1 score:',f1_score(y_test, y_pred, average='micro'))"
   ]
  },
  {
   "cell_type": "code",
   "execution_count": 113,
   "metadata": {},
   "outputs": [
    {
     "name": "stdout",
     "output_type": "stream",
     "text": [
      "Accuracy: 0.85275\n"
     ]
    }
   ],
   "source": [
    "from sklearn.metrics import accuracy_score\n",
    "\n",
    "print('Accuracy:', accuracy_score(y_test, y_pred))"
   ]
  },
  {
   "cell_type": "markdown",
   "metadata": {},
   "source": [
    "## Predict and save other 5k data"
   ]
  },
  {
   "cell_type": "code",
   "execution_count": 54,
   "metadata": {},
   "outputs": [
    {
     "data": {
      "text/plain": [
       "SGDClassifier(alpha=0.0001, average=False, class_weight=None,\n",
       "       early_stopping=False, epsilon=0.1, eta0=0.0, fit_intercept=True,\n",
       "       l1_ratio=0.15, learning_rate='optimal', loss='hinge', max_iter=1000,\n",
       "       n_iter=None, n_iter_no_change=5, n_jobs=None, penalty='l2',\n",
       "       power_t=0.5, random_state=None, shuffle=True, tol=0.001,\n",
       "       validation_fraction=0.1, verbose=0, warm_start=False)"
      ]
     },
     "execution_count": 54,
     "metadata": {},
     "output_type": "execute_result"
    }
   ],
   "source": [
    "clf = SGDClassifier(max_iter=1000, tol=1e-3)\n",
    "clf.fit(vectr_train, train['category'])"
   ]
  },
  {
   "cell_type": "code",
   "execution_count": 55,
   "metadata": {},
   "outputs": [],
   "source": [
    "y_pred = clf.predict(vectr_test)"
   ]
  },
  {
   "cell_type": "code",
   "execution_count": 56,
   "metadata": {},
   "outputs": [],
   "source": [
    "test['category'] = y_pred"
   ]
  },
  {
   "cell_type": "code",
   "execution_count": 58,
   "metadata": {},
   "outputs": [],
   "source": [
    "# here I just save predicted 5k data\n",
    "\n",
    "test.to_csv('predicted_test_data.csv', index_label=False, index=False)"
   ]
  }
 ],
 "metadata": {
  "kernelspec": {
   "display_name": "Python 3",
   "language": "python",
   "name": "python3"
  },
  "language_info": {
   "codemirror_mode": {
    "name": "ipython",
    "version": 3
   },
   "file_extension": ".py",
   "mimetype": "text/x-python",
   "name": "python",
   "nbconvert_exporter": "python",
   "pygments_lexer": "ipython3",
   "version": "3.7.3"
  }
 },
 "nbformat": 4,
 "nbformat_minor": 2
}
